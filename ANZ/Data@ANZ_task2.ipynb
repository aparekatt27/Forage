{
 "cells": [
  {
   "cell_type": "code",
   "execution_count": 1,
   "id": "7a88a6ed",
   "metadata": {},
   "outputs": [],
   "source": [
    "# libraries\n",
    "\n",
    "import numpy as np\n",
    "import pandas as pd\n",
    "import seaborn as sns\n",
    "import matplotlib.pyplot as plt\n",
    "import statistics\n",
    "\n",
    "from sklearn.model_selection import train_test_split\n",
    "from sklearn.preprocessing import OneHotEncoder, StandardScaler\n",
    "from sklearn.linear_model import LinearRegression\n",
    "from sklearn.tree import DecisionTreeRegressor\n",
    "from sklearn.metrics import mean_squared_error, r2_score\n",
    "from sklearn.pipeline import make_pipeline\n",
    "from sklearn.compose import make_column_transformer "
   ]
  },
  {
   "cell_type": "code",
   "execution_count": 2,
   "id": "9306c188",
   "metadata": {},
   "outputs": [],
   "source": [
    "df = pd.read_pickle(r'C:\\Users\\Aditi\\Downloads\\Data_ANZ.pk1')"
   ]
  },
  {
   "cell_type": "code",
   "execution_count": 3,
   "id": "2d73e3ba",
   "metadata": {},
   "outputs": [
    {
     "data": {
      "text/html": [
       "<div>\n",
       "<style scoped>\n",
       "    .dataframe tbody tr th:only-of-type {\n",
       "        vertical-align: middle;\n",
       "    }\n",
       "\n",
       "    .dataframe tbody tr th {\n",
       "        vertical-align: top;\n",
       "    }\n",
       "\n",
       "    .dataframe thead th {\n",
       "        text-align: right;\n",
       "    }\n",
       "</style>\n",
       "<table border=\"1\" class=\"dataframe\">\n",
       "  <thead>\n",
       "    <tr style=\"text-align: right;\">\n",
       "      <th></th>\n",
       "      <th>status</th>\n",
       "      <th>card_present_flag</th>\n",
       "      <th>account</th>\n",
       "      <th>currency</th>\n",
       "      <th>long_lat</th>\n",
       "      <th>txn_description</th>\n",
       "      <th>merchant_id</th>\n",
       "      <th>first_name</th>\n",
       "      <th>balance</th>\n",
       "      <th>date</th>\n",
       "      <th>...</th>\n",
       "      <th>amount</th>\n",
       "      <th>transaction_id</th>\n",
       "      <th>country</th>\n",
       "      <th>customer_id</th>\n",
       "      <th>merchant_long_lat</th>\n",
       "      <th>movement</th>\n",
       "      <th>month</th>\n",
       "      <th>dayofweek</th>\n",
       "      <th>hour</th>\n",
       "      <th>category</th>\n",
       "    </tr>\n",
       "  </thead>\n",
       "  <tbody>\n",
       "    <tr>\n",
       "      <th>0</th>\n",
       "      <td>authorized</td>\n",
       "      <td>1.0</td>\n",
       "      <td>ACC-1598451071</td>\n",
       "      <td>AUD</td>\n",
       "      <td>153.41 -27.95</td>\n",
       "      <td>POS</td>\n",
       "      <td>81c48296-73be-44a7-befa-d053f48ce7cd</td>\n",
       "      <td>Diana</td>\n",
       "      <td>35.39</td>\n",
       "      <td>2018-08-01</td>\n",
       "      <td>...</td>\n",
       "      <td>16.25</td>\n",
       "      <td>a623070bfead4541a6b0fff8a09e706c</td>\n",
       "      <td>Australia</td>\n",
       "      <td>CUS-2487424745</td>\n",
       "      <td>153.38 -27.99</td>\n",
       "      <td>debit</td>\n",
       "      <td>8</td>\n",
       "      <td>2</td>\n",
       "      <td>01</td>\n",
       "      <td>Purchase</td>\n",
       "    </tr>\n",
       "    <tr>\n",
       "      <th>1</th>\n",
       "      <td>authorized</td>\n",
       "      <td>0.0</td>\n",
       "      <td>ACC-1598451071</td>\n",
       "      <td>AUD</td>\n",
       "      <td>153.41 -27.95</td>\n",
       "      <td>SALES-POS</td>\n",
       "      <td>830a451c-316e-4a6a-bf25-e37caedca49e</td>\n",
       "      <td>Diana</td>\n",
       "      <td>21.20</td>\n",
       "      <td>2018-08-01</td>\n",
       "      <td>...</td>\n",
       "      <td>14.19</td>\n",
       "      <td>13270a2a902145da9db4c951e04b51b9</td>\n",
       "      <td>Australia</td>\n",
       "      <td>CUS-2487424745</td>\n",
       "      <td>151.21 -33.87</td>\n",
       "      <td>debit</td>\n",
       "      <td>8</td>\n",
       "      <td>2</td>\n",
       "      <td>01</td>\n",
       "      <td>Purchase</td>\n",
       "    </tr>\n",
       "    <tr>\n",
       "      <th>2</th>\n",
       "      <td>authorized</td>\n",
       "      <td>1.0</td>\n",
       "      <td>ACC-1222300524</td>\n",
       "      <td>AUD</td>\n",
       "      <td>151.23 -33.94</td>\n",
       "      <td>POS</td>\n",
       "      <td>835c231d-8cdf-4e96-859d-e9d571760cf0</td>\n",
       "      <td>Michael</td>\n",
       "      <td>5.71</td>\n",
       "      <td>2018-08-01</td>\n",
       "      <td>...</td>\n",
       "      <td>6.42</td>\n",
       "      <td>feb79e7ecd7048a5a36ec889d1a94270</td>\n",
       "      <td>Australia</td>\n",
       "      <td>CUS-2142601169</td>\n",
       "      <td>151.21 -33.87</td>\n",
       "      <td>debit</td>\n",
       "      <td>8</td>\n",
       "      <td>2</td>\n",
       "      <td>01</td>\n",
       "      <td>Purchase</td>\n",
       "    </tr>\n",
       "    <tr>\n",
       "      <th>3</th>\n",
       "      <td>authorized</td>\n",
       "      <td>1.0</td>\n",
       "      <td>ACC-1037050564</td>\n",
       "      <td>AUD</td>\n",
       "      <td>153.10 -27.66</td>\n",
       "      <td>SALES-POS</td>\n",
       "      <td>48514682-c78a-4a88-b0da-2d6302e64673</td>\n",
       "      <td>Rhonda</td>\n",
       "      <td>2117.22</td>\n",
       "      <td>2018-08-01</td>\n",
       "      <td>...</td>\n",
       "      <td>40.90</td>\n",
       "      <td>2698170da3704fd981b15e64a006079e</td>\n",
       "      <td>Australia</td>\n",
       "      <td>CUS-1614226872</td>\n",
       "      <td>153.05 -26.68</td>\n",
       "      <td>debit</td>\n",
       "      <td>8</td>\n",
       "      <td>2</td>\n",
       "      <td>01</td>\n",
       "      <td>Purchase</td>\n",
       "    </tr>\n",
       "    <tr>\n",
       "      <th>4</th>\n",
       "      <td>authorized</td>\n",
       "      <td>1.0</td>\n",
       "      <td>ACC-1598451071</td>\n",
       "      <td>AUD</td>\n",
       "      <td>153.41 -27.95</td>\n",
       "      <td>SALES-POS</td>\n",
       "      <td>b4e02c10-0852-4273-b8fd-7b3395e32eb0</td>\n",
       "      <td>Diana</td>\n",
       "      <td>17.95</td>\n",
       "      <td>2018-08-01</td>\n",
       "      <td>...</td>\n",
       "      <td>3.25</td>\n",
       "      <td>329adf79878c4cf0aeb4188b4691c266</td>\n",
       "      <td>Australia</td>\n",
       "      <td>CUS-2487424745</td>\n",
       "      <td>153.44 -28.06</td>\n",
       "      <td>debit</td>\n",
       "      <td>8</td>\n",
       "      <td>2</td>\n",
       "      <td>01</td>\n",
       "      <td>Purchase</td>\n",
       "    </tr>\n",
       "  </tbody>\n",
       "</table>\n",
       "<p>5 rows × 25 columns</p>\n",
       "</div>"
      ],
      "text/plain": [
       "       status card_present_flag         account currency       long_lat  \\\n",
       "0  authorized               1.0  ACC-1598451071      AUD  153.41 -27.95   \n",
       "1  authorized               0.0  ACC-1598451071      AUD  153.41 -27.95   \n",
       "2  authorized               1.0  ACC-1222300524      AUD  151.23 -33.94   \n",
       "3  authorized               1.0  ACC-1037050564      AUD  153.10 -27.66   \n",
       "4  authorized               1.0  ACC-1598451071      AUD  153.41 -27.95   \n",
       "\n",
       "  txn_description                           merchant_id first_name  balance  \\\n",
       "0             POS  81c48296-73be-44a7-befa-d053f48ce7cd      Diana    35.39   \n",
       "1       SALES-POS  830a451c-316e-4a6a-bf25-e37caedca49e      Diana    21.20   \n",
       "2             POS  835c231d-8cdf-4e96-859d-e9d571760cf0    Michael     5.71   \n",
       "3       SALES-POS  48514682-c78a-4a88-b0da-2d6302e64673     Rhonda  2117.22   \n",
       "4       SALES-POS  b4e02c10-0852-4273-b8fd-7b3395e32eb0      Diana    17.95   \n",
       "\n",
       "        date  ... amount                    transaction_id    country  \\\n",
       "0 2018-08-01  ...  16.25  a623070bfead4541a6b0fff8a09e706c  Australia   \n",
       "1 2018-08-01  ...  14.19  13270a2a902145da9db4c951e04b51b9  Australia   \n",
       "2 2018-08-01  ...   6.42  feb79e7ecd7048a5a36ec889d1a94270  Australia   \n",
       "3 2018-08-01  ...  40.90  2698170da3704fd981b15e64a006079e  Australia   \n",
       "4 2018-08-01  ...   3.25  329adf79878c4cf0aeb4188b4691c266  Australia   \n",
       "\n",
       "      customer_id merchant_long_lat  movement month dayofweek hour  category  \n",
       "0  CUS-2487424745     153.38 -27.99     debit     8         2   01  Purchase  \n",
       "1  CUS-2487424745     151.21 -33.87     debit     8         2   01  Purchase  \n",
       "2  CUS-2142601169     151.21 -33.87     debit     8         2   01  Purchase  \n",
       "3  CUS-1614226872     153.05 -26.68     debit     8         2   01  Purchase  \n",
       "4  CUS-2487424745     153.44 -28.06     debit     8         2   01  Purchase  \n",
       "\n",
       "[5 rows x 25 columns]"
      ]
     },
     "execution_count": 3,
     "metadata": {},
     "output_type": "execute_result"
    }
   ],
   "source": [
    "df.head()"
   ]
  },
  {
   "cell_type": "code",
   "execution_count": 4,
   "id": "d71e5651",
   "metadata": {},
   "outputs": [],
   "source": [
    "# Feature Engineering"
   ]
  },
  {
   "cell_type": "code",
   "execution_count": 5,
   "id": "ba0f76c9",
   "metadata": {},
   "outputs": [],
   "source": [
    "# Our target variable is annual salary"
   ]
  },
  {
   "cell_type": "code",
   "execution_count": 6,
   "id": "60fe68e9",
   "metadata": {},
   "outputs": [
    {
     "data": {
      "text/html": [
       "<div>\n",
       "<style scoped>\n",
       "    .dataframe tbody tr th:only-of-type {\n",
       "        vertical-align: middle;\n",
       "    }\n",
       "\n",
       "    .dataframe tbody tr th {\n",
       "        vertical-align: top;\n",
       "    }\n",
       "\n",
       "    .dataframe thead th {\n",
       "        text-align: right;\n",
       "    }\n",
       "</style>\n",
       "<table border=\"1\" class=\"dataframe\">\n",
       "  <thead>\n",
       "    <tr style=\"text-align: right;\">\n",
       "      <th></th>\n",
       "      <th>customer_id</th>\n",
       "    </tr>\n",
       "  </thead>\n",
       "  <tbody>\n",
       "    <tr>\n",
       "      <th>0</th>\n",
       "      <td>CUS-2487424745</td>\n",
       "    </tr>\n",
       "    <tr>\n",
       "      <th>1</th>\n",
       "      <td>CUS-2142601169</td>\n",
       "    </tr>\n",
       "    <tr>\n",
       "      <th>2</th>\n",
       "      <td>CUS-1614226872</td>\n",
       "    </tr>\n",
       "    <tr>\n",
       "      <th>3</th>\n",
       "      <td>CUS-2688605418</td>\n",
       "    </tr>\n",
       "    <tr>\n",
       "      <th>4</th>\n",
       "      <td>CUS-4123612273</td>\n",
       "    </tr>\n",
       "  </tbody>\n",
       "</table>\n",
       "</div>"
      ],
      "text/plain": [
       "      customer_id\n",
       "0  CUS-2487424745\n",
       "1  CUS-2142601169\n",
       "2  CUS-1614226872\n",
       "3  CUS-2688605418\n",
       "4  CUS-4123612273"
      ]
     },
     "execution_count": 6,
     "metadata": {},
     "output_type": "execute_result"
    }
   ],
   "source": [
    "# Let's check salary payment frequency for each customer\n",
    "\n",
    "salary_df = pd.DataFrame({\"customer_id\": df.customer_id.unique()})\n",
    "salary_df.head()"
   ]
  },
  {
   "cell_type": "code",
   "execution_count": 7,
   "id": "ff10aae1",
   "metadata": {},
   "outputs": [],
   "source": [
    "# let's get the salary amount for each unique id\n",
    "\n",
    "freq = []\n",
    "amt = []\n",
    "\n",
    "for i in range(len(salary_df)):\n",
    "    salary = df.loc[(df.customer_id == salary_df.customer_id[i]) & (df.txn_description == \"PAY/SALARY\"), ['date', 'amount']].groupby(\"date\", as_index = False).sum()\n",
    "    count = len(salary)\n",
    "    \n",
    "    if count == 0:\n",
    "        freq.append(np.nan)\n",
    "        amt.append(np.nan)\n",
    "        \n",
    "    else:\n",
    "        day_pay = []\n",
    "        for i in range(len(salary)-1):\n",
    "            day_pay.append((salary.date[i+1] - salary.date[i]).days)\n",
    "        freq.append(max(day_pay))\n",
    "        amt.append(statistics.mode(salary.amount))"
   ]
  },
  {
   "cell_type": "code",
   "execution_count": 8,
   "id": "6a97e55e",
   "metadata": {},
   "outputs": [],
   "source": [
    "salary_df[\"salary_freq\"] = freq\n",
    "salary_df['salary_amt'] = amt\n",
    "salary_df['annual_salary'] = salary_df['salary_amt']/salary_df['salary_freq']*365"
   ]
  },
  {
   "cell_type": "code",
   "execution_count": 9,
   "id": "af83ed1c",
   "metadata": {},
   "outputs": [
    {
     "data": {
      "text/html": [
       "<div>\n",
       "<style scoped>\n",
       "    .dataframe tbody tr th:only-of-type {\n",
       "        vertical-align: middle;\n",
       "    }\n",
       "\n",
       "    .dataframe tbody tr th {\n",
       "        vertical-align: top;\n",
       "    }\n",
       "\n",
       "    .dataframe thead th {\n",
       "        text-align: right;\n",
       "    }\n",
       "</style>\n",
       "<table border=\"1\" class=\"dataframe\">\n",
       "  <thead>\n",
       "    <tr style=\"text-align: right;\">\n",
       "      <th></th>\n",
       "      <th>customer_id</th>\n",
       "      <th>salary_freq</th>\n",
       "      <th>salary_amt</th>\n",
       "      <th>annual_salary</th>\n",
       "    </tr>\n",
       "  </thead>\n",
       "  <tbody>\n",
       "    <tr>\n",
       "      <th>0</th>\n",
       "      <td>CUS-2487424745</td>\n",
       "      <td>7</td>\n",
       "      <td>1013.67</td>\n",
       "      <td>52855.650000</td>\n",
       "    </tr>\n",
       "    <tr>\n",
       "      <th>1</th>\n",
       "      <td>CUS-2142601169</td>\n",
       "      <td>7</td>\n",
       "      <td>1002.13</td>\n",
       "      <td>52253.921429</td>\n",
       "    </tr>\n",
       "    <tr>\n",
       "      <th>2</th>\n",
       "      <td>CUS-1614226872</td>\n",
       "      <td>7</td>\n",
       "      <td>892.09</td>\n",
       "      <td>46516.121429</td>\n",
       "    </tr>\n",
       "    <tr>\n",
       "      <th>3</th>\n",
       "      <td>CUS-2688605418</td>\n",
       "      <td>14</td>\n",
       "      <td>2320.30</td>\n",
       "      <td>60493.535714</td>\n",
       "    </tr>\n",
       "    <tr>\n",
       "      <th>4</th>\n",
       "      <td>CUS-4123612273</td>\n",
       "      <td>7</td>\n",
       "      <td>1068.04</td>\n",
       "      <td>55690.657143</td>\n",
       "    </tr>\n",
       "  </tbody>\n",
       "</table>\n",
       "</div>"
      ],
      "text/plain": [
       "      customer_id  salary_freq  salary_amt  annual_salary\n",
       "0  CUS-2487424745            7     1013.67   52855.650000\n",
       "1  CUS-2142601169            7     1002.13   52253.921429\n",
       "2  CUS-1614226872            7      892.09   46516.121429\n",
       "3  CUS-2688605418           14     2320.30   60493.535714\n",
       "4  CUS-4123612273            7     1068.04   55690.657143"
      ]
     },
     "execution_count": 9,
     "metadata": {},
     "output_type": "execute_result"
    }
   ],
   "source": [
    "salary_df.head()"
   ]
  },
  {
   "cell_type": "code",
   "execution_count": 10,
   "id": "130bd372",
   "metadata": {},
   "outputs": [
    {
     "name": "stderr",
     "output_type": "stream",
     "text": [
      "E:\\Program Files\\anaconda3\\lib\\site-packages\\seaborn\\distributions.py:2619: FutureWarning: `distplot` is a deprecated function and will be removed in a future version. Please adapt your code to use either `displot` (a figure-level function with similar flexibility) or `histplot` (an axes-level function for histograms).\n",
      "  warnings.warn(msg, FutureWarning)\n"
     ]
    },
    {
     "data": {
      "text/plain": [
       "Text(0.5, 1.0, \"Distribution of customer's salary amount\")"
      ]
     },
     "execution_count": 10,
     "metadata": {},
     "output_type": "execute_result"
    },
    {
     "data": {
      "image/png": "[encoded data removed]",
      "text/plain": [
       "<Figure size 432x288 with 1 Axes>"
      ]
     },
     "metadata": {
      "needs_background": "light"
     },
     "output_type": "display_data"
    }
   ],
   "source": [
    "sns.distplot(salary_df.salary_amt)\n",
    "plt.title('Distribution of customer\\'s salary amount')"
   ]
  },
  {
   "cell_type": "code",
   "execution_count": 11,
   "id": "55cc1a56",
   "metadata": {},
   "outputs": [
    {
     "name": "stderr",
     "output_type": "stream",
     "text": [
      "E:\\Program Files\\anaconda3\\lib\\site-packages\\seaborn\\distributions.py:2619: FutureWarning: `distplot` is a deprecated function and will be removed in a future version. Please adapt your code to use either `displot` (a figure-level function with similar flexibility) or `histplot` (an axes-level function for histograms).\n",
      "  warnings.warn(msg, FutureWarning)\n"
     ]
    },
    {
     "data": {
      "text/plain": [
       "Text(0.5, 1.0, \"Distribution of customer's annual salary\")"
      ]
     },
     "execution_count": 11,
     "metadata": {},
     "output_type": "execute_result"
    },
    {
     "data": {
      "image/png": "[encoded data removed]",
      "text/plain": [
       "<Figure size 432x288 with 1 Axes>"
      ]
     },
     "metadata": {
      "needs_background": "light"
     },
     "output_type": "display_data"
    }
   ],
   "source": [
    "sns.distplot(salary_df.annual_salary)\n",
    "plt.title('Distribution of customer\\'s annual salary')"
   ]
  },
  {
   "cell_type": "code",
   "execution_count": null,
   "id": "fb616db8",
   "metadata": {},
   "outputs": [],
   "source": []
  },
  {
   "cell_type": "code",
   "execution_count": 12,
   "id": "14011b6a",
   "metadata": {},
   "outputs": [],
   "source": [
    "# let's create predictor variables for each customer"
   ]
  },
  {
   "cell_type": "code",
   "execution_count": 13,
   "id": "0733e80d",
   "metadata": {},
   "outputs": [
    {
     "data": {
      "text/plain": [
       "100"
      ]
     },
     "execution_count": 13,
     "metadata": {},
     "output_type": "execute_result"
    }
   ],
   "source": [
    "unique_id = df.customer_id.unique()\n",
    "len(unique_id)"
   ]
  },
  {
   "cell_type": "code",
   "execution_count": 14,
   "id": "208727d4",
   "metadata": {},
   "outputs": [
    {
     "data": {
      "text/plain": [
       "100"
      ]
     },
     "execution_count": 14,
     "metadata": {},
     "output_type": "execute_result"
    }
   ],
   "source": [
    "# average number of weekly transactions\n",
    "\n",
    "avg_week_tran = []\n",
    "\n",
    "for i in unique_id:\n",
    "    lst = df.loc[df.customer_id == i, 'date']\n",
    "    avg_week_tran.append(round(len(lst)/lst.nunique())*7)\n",
    "\n",
    "len(avg_week_tran)"
   ]
  },
  {
   "cell_type": "code",
   "execution_count": 15,
   "id": "e9f69054",
   "metadata": {},
   "outputs": [
    {
     "data": {
      "text/plain": [
       "[1452.21,\n",
       " 2349.55,\n",
       " 892.09,\n",
       " 2320.3,\n",
       " 1068.04,\n",
       " 2840.15,\n",
       " 2280.36,\n",
       " 2639.76,\n",
       " 3903.95,\n",
       " 2588.01]"
      ]
     },
     "execution_count": 15,
     "metadata": {},
     "output_type": "execute_result"
    }
   ],
   "source": [
    "# Maximum amount\n",
    "\n",
    "max_amt = []\n",
    "\n",
    "for i in unique_id:\n",
    "    lst = df.loc[df.customer_id == i, 'amount']\n",
    "    max_amt.append(max(lst))\n",
    "\n",
    "max_amt[:10]"
   ]
  },
  {
   "cell_type": "code",
   "execution_count": 16,
   "id": "cf57b736",
   "metadata": {},
   "outputs": [
    {
     "data": {
      "text/plain": [
       "[22, 23, 22, 25, 32]"
      ]
     },
     "execution_count": 16,
     "metadata": {},
     "output_type": "execute_result"
    }
   ],
   "source": [
    "# count of large transactions (above 100)\n",
    "\n",
    "no_trans = []\n",
    "\n",
    "for i in unique_id:\n",
    "    lst = df.loc[df.customer_id == i, 'amount']\n",
    "    ct = 0\n",
    "    \n",
    "    for j in lst:\n",
    "        if j > 100:\n",
    "            ct += 1\n",
    "    no_trans.append(ct)\n",
    "\n",
    "no_trans[:5]"
   ]
  },
  {
   "cell_type": "code",
   "execution_count": 17,
   "id": "04026a2d",
   "metadata": {},
   "outputs": [
    {
     "data": {
      "text/plain": [
       "[85, 74, 76, 63, 44]"
      ]
     },
     "execution_count": 17,
     "metadata": {},
     "output_type": "execute_result"
    }
   ],
   "source": [
    "# number of dats with transactions\n",
    "\n",
    "no_days_with_trans = []\n",
    "\n",
    "for i in unique_id:\n",
    "    lst = df.loc[df.customer_id == i, \"date\"]\n",
    "    no_days_with_trans.append(lst.nunique())\n",
    "    \n",
    "no_days_with_trans[:5]"
   ]
  },
  {
   "cell_type": "code",
   "execution_count": 18,
   "id": "783b9823",
   "metadata": {},
   "outputs": [
    {
     "data": {
      "text/plain": [
       "[45.34877162629756,\n",
       " 78.20610561056101,\n",
       " 74.46501930501928,\n",
       " 159.3041860465116,\n",
       " 166.50835820895517,\n",
       " 99.56965753424659,\n",
       " 314.3242982456141,\n",
       " 220.85247422680413,\n",
       " 297.51034482758627,\n",
       " 261.89141104294487]"
      ]
     },
     "execution_count": 18,
     "metadata": {},
     "output_type": "execute_result"
    }
   ],
   "source": [
    "# Average transaction amount\n",
    "\n",
    "avg_trans_amt = []\n",
    "\n",
    "for i in unique_id:\n",
    "    lst = df.loc[df.customer_id==i, 'amount']\n",
    "    avg_trans_amt.append(lst.mean())\n",
    "    \n",
    "avg_trans_amt[:10]"
   ]
  },
  {
   "cell_type": "code",
   "execution_count": 19,
   "id": "329035f4",
   "metadata": {},
   "outputs": [
    {
     "data": {
      "text/plain": [
       "[1580.4,\n",
       " 1132.66,\n",
       " 3618.5,\n",
       " 5616.63,\n",
       " 6162.45,\n",
       " 5893.355,\n",
       " 13214.74,\n",
       " 12992.23,\n",
       " 12093.89,\n",
       " 12794.13]"
      ]
     },
     "execution_count": 19,
     "metadata": {},
     "output_type": "execute_result"
    }
   ],
   "source": [
    "# median of balance\n",
    "\n",
    "med_balance = []\n",
    "\n",
    "for i in unique_id:\n",
    "    lst = df.loc[df.customer_id==i, 'balance']\n",
    "    med_balance.append(lst.median())\n",
    "    \n",
    "med_balance[:10]"
   ]
  },
  {
   "cell_type": "code",
   "execution_count": 20,
   "id": "da59967b",
   "metadata": {},
   "outputs": [
    {
     "data": {
      "text/plain": [
       "['QLD', 'NSW', 'QLD', 'NSW', 'VIC', 'WA', 'n/a', 'n/a', 'NSW', 'n/a']"
      ]
     },
     "execution_count": 20,
     "metadata": {},
     "output_type": "execute_result"
    }
   ],
   "source": [
    "# state of residency\n",
    "\n",
    "state = []\n",
    "\n",
    "for i in unique_id:\n",
    "    lst = df.loc[df.customer_id==i, 'merchant_state']\n",
    "    state.append(statistics.mode(lst))\n",
    "    \n",
    "state[:10]"
   ]
  },
  {
   "cell_type": "code",
   "execution_count": 21,
   "id": "2ea78e7c",
   "metadata": {},
   "outputs": [
    {
     "data": {
      "text/plain": [
       "[26, 38, 40, 20, 43]"
      ]
     },
     "execution_count": 21,
     "metadata": {},
     "output_type": "execute_result"
    }
   ],
   "source": [
    "# now let's include age and gender\n",
    "\n",
    "age = []\n",
    "\n",
    "for i in unique_id:\n",
    "    lst = df.loc[df.customer_id == i, \"age\"]\n",
    "    age.append(statistics.mode(lst))\n",
    "\n",
    "age[:5]"
   ]
  },
  {
   "cell_type": "code",
   "execution_count": 22,
   "id": "8d6ad90f",
   "metadata": {},
   "outputs": [
    {
     "data": {
      "text/plain": [
       "['F', 'M', 'F', 'M', 'F', 'F', 'M', 'M', 'M', 'M']"
      ]
     },
     "execution_count": 22,
     "metadata": {},
     "output_type": "execute_result"
    }
   ],
   "source": [
    "gender = []\n",
    "\n",
    "for i in unique_id:\n",
    "    lst = df.loc[df.customer_id == i, \"gender\"]\n",
    "    gender.append(statistics.mode(lst))\n",
    "\n",
    "gender[:10]"
   ]
  },
  {
   "cell_type": "code",
   "execution_count": 23,
   "id": "1055ebee",
   "metadata": {},
   "outputs": [],
   "source": [
    "# Let's create a dataframe putting all the predictor variables together"
   ]
  },
  {
   "cell_type": "code",
   "execution_count": 24,
   "id": "1adffefa",
   "metadata": {},
   "outputs": [
    {
     "data": {
      "text/html": [
       "<div>\n",
       "<style scoped>\n",
       "    .dataframe tbody tr th:only-of-type {\n",
       "        vertical-align: middle;\n",
       "    }\n",
       "\n",
       "    .dataframe tbody tr th {\n",
       "        vertical-align: top;\n",
       "    }\n",
       "\n",
       "    .dataframe thead th {\n",
       "        text-align: right;\n",
       "    }\n",
       "</style>\n",
       "<table border=\"1\" class=\"dataframe\">\n",
       "  <thead>\n",
       "    <tr style=\"text-align: right;\">\n",
       "      <th></th>\n",
       "      <th>customer_id</th>\n",
       "      <th>avg_no_week_trans</th>\n",
       "      <th>max_amt</th>\n",
       "      <th>no_large_trans</th>\n",
       "      <th>avg_trans_amt</th>\n",
       "      <th>median_balance</th>\n",
       "      <th>state</th>\n",
       "      <th>age</th>\n",
       "      <th>gender</th>\n",
       "    </tr>\n",
       "  </thead>\n",
       "  <tbody>\n",
       "    <tr>\n",
       "      <th>0</th>\n",
       "      <td>CUS-2487424745</td>\n",
       "      <td>49</td>\n",
       "      <td>1452.21</td>\n",
       "      <td>22</td>\n",
       "      <td>45.348772</td>\n",
       "      <td>1580.40</td>\n",
       "      <td>QLD</td>\n",
       "      <td>26</td>\n",
       "      <td>F</td>\n",
       "    </tr>\n",
       "    <tr>\n",
       "      <th>1</th>\n",
       "      <td>CUS-2142601169</td>\n",
       "      <td>28</td>\n",
       "      <td>2349.55</td>\n",
       "      <td>23</td>\n",
       "      <td>78.206106</td>\n",
       "      <td>1132.66</td>\n",
       "      <td>NSW</td>\n",
       "      <td>38</td>\n",
       "      <td>M</td>\n",
       "    </tr>\n",
       "    <tr>\n",
       "      <th>2</th>\n",
       "      <td>CUS-1614226872</td>\n",
       "      <td>21</td>\n",
       "      <td>892.09</td>\n",
       "      <td>22</td>\n",
       "      <td>74.465019</td>\n",
       "      <td>3618.50</td>\n",
       "      <td>QLD</td>\n",
       "      <td>40</td>\n",
       "      <td>F</td>\n",
       "    </tr>\n",
       "    <tr>\n",
       "      <th>3</th>\n",
       "      <td>CUS-2688605418</td>\n",
       "      <td>14</td>\n",
       "      <td>2320.30</td>\n",
       "      <td>25</td>\n",
       "      <td>159.304186</td>\n",
       "      <td>5616.63</td>\n",
       "      <td>NSW</td>\n",
       "      <td>20</td>\n",
       "      <td>M</td>\n",
       "    </tr>\n",
       "    <tr>\n",
       "      <th>4</th>\n",
       "      <td>CUS-4123612273</td>\n",
       "      <td>21</td>\n",
       "      <td>1068.04</td>\n",
       "      <td>32</td>\n",
       "      <td>166.508358</td>\n",
       "      <td>6162.45</td>\n",
       "      <td>VIC</td>\n",
       "      <td>43</td>\n",
       "      <td>F</td>\n",
       "    </tr>\n",
       "  </tbody>\n",
       "</table>\n",
       "</div>"
      ],
      "text/plain": [
       "      customer_id  avg_no_week_trans  max_amt  no_large_trans  avg_trans_amt  \\\n",
       "0  CUS-2487424745                 49  1452.21              22      45.348772   \n",
       "1  CUS-2142601169                 28  2349.55              23      78.206106   \n",
       "2  CUS-1614226872                 21   892.09              22      74.465019   \n",
       "3  CUS-2688605418                 14  2320.30              25     159.304186   \n",
       "4  CUS-4123612273                 21  1068.04              32     166.508358   \n",
       "\n",
       "   median_balance state  age gender  \n",
       "0         1580.40   QLD   26      F  \n",
       "1         1132.66   NSW   38      M  \n",
       "2         3618.50   QLD   40      F  \n",
       "3         5616.63   NSW   20      M  \n",
       "4         6162.45   VIC   43      F  "
      ]
     },
     "execution_count": 24,
     "metadata": {},
     "output_type": "execute_result"
    }
   ],
   "source": [
    "pred_df = pd.DataFrame({'customer_id': unique_id,\n",
    "                        'avg_no_week_trans': avg_week_tran,\n",
    "                        'max_amt': max_amt,\n",
    "                        'no_large_trans': no_trans,\n",
    "                        'avg_trans_amt': avg_trans_amt,\n",
    "                        'median_balance': med_balance,\n",
    "                        'state': state,\n",
    "                        'age': age,\n",
    "                        'gender': gender})\n",
    "\n",
    "pred_df.head()"
   ]
  },
  {
   "cell_type": "code",
   "execution_count": 25,
   "id": "07df7b32",
   "metadata": {},
   "outputs": [
    {
     "data": {
      "text/html": [
       "<div>\n",
       "<style scoped>\n",
       "    .dataframe tbody tr th:only-of-type {\n",
       "        vertical-align: middle;\n",
       "    }\n",
       "\n",
       "    .dataframe tbody tr th {\n",
       "        vertical-align: top;\n",
       "    }\n",
       "\n",
       "    .dataframe thead th {\n",
       "        text-align: right;\n",
       "    }\n",
       "</style>\n",
       "<table border=\"1\" class=\"dataframe\">\n",
       "  <thead>\n",
       "    <tr style=\"text-align: right;\">\n",
       "      <th></th>\n",
       "      <th>customer_id</th>\n",
       "      <th>salary_freq</th>\n",
       "      <th>salary_amt</th>\n",
       "      <th>annual_salary</th>\n",
       "    </tr>\n",
       "  </thead>\n",
       "  <tbody>\n",
       "    <tr>\n",
       "      <th>0</th>\n",
       "      <td>CUS-2487424745</td>\n",
       "      <td>7</td>\n",
       "      <td>1013.67</td>\n",
       "      <td>52855.650000</td>\n",
       "    </tr>\n",
       "    <tr>\n",
       "      <th>1</th>\n",
       "      <td>CUS-2142601169</td>\n",
       "      <td>7</td>\n",
       "      <td>1002.13</td>\n",
       "      <td>52253.921429</td>\n",
       "    </tr>\n",
       "    <tr>\n",
       "      <th>2</th>\n",
       "      <td>CUS-1614226872</td>\n",
       "      <td>7</td>\n",
       "      <td>892.09</td>\n",
       "      <td>46516.121429</td>\n",
       "    </tr>\n",
       "    <tr>\n",
       "      <th>3</th>\n",
       "      <td>CUS-2688605418</td>\n",
       "      <td>14</td>\n",
       "      <td>2320.30</td>\n",
       "      <td>60493.535714</td>\n",
       "    </tr>\n",
       "    <tr>\n",
       "      <th>4</th>\n",
       "      <td>CUS-4123612273</td>\n",
       "      <td>7</td>\n",
       "      <td>1068.04</td>\n",
       "      <td>55690.657143</td>\n",
       "    </tr>\n",
       "  </tbody>\n",
       "</table>\n",
       "</div>"
      ],
      "text/plain": [
       "      customer_id  salary_freq  salary_amt  annual_salary\n",
       "0  CUS-2487424745            7     1013.67   52855.650000\n",
       "1  CUS-2142601169            7     1002.13   52253.921429\n",
       "2  CUS-1614226872            7      892.09   46516.121429\n",
       "3  CUS-2688605418           14     2320.30   60493.535714\n",
       "4  CUS-4123612273            7     1068.04   55690.657143"
      ]
     },
     "execution_count": 25,
     "metadata": {},
     "output_type": "execute_result"
    }
   ],
   "source": [
    "# target variable\n",
    "salary_df.head()"
   ]
  },
  {
   "cell_type": "code",
   "execution_count": 26,
   "id": "864ce7f9",
   "metadata": {},
   "outputs": [
    {
     "data": {
      "text/html": [
       "<div>\n",
       "<style scoped>\n",
       "    .dataframe tbody tr th:only-of-type {\n",
       "        vertical-align: middle;\n",
       "    }\n",
       "\n",
       "    .dataframe tbody tr th {\n",
       "        vertical-align: top;\n",
       "    }\n",
       "\n",
       "    .dataframe thead th {\n",
       "        text-align: right;\n",
       "    }\n",
       "</style>\n",
       "<table border=\"1\" class=\"dataframe\">\n",
       "  <thead>\n",
       "    <tr style=\"text-align: right;\">\n",
       "      <th></th>\n",
       "      <th>customer_id</th>\n",
       "      <th>avg_no_week_trans</th>\n",
       "      <th>max_amt</th>\n",
       "      <th>no_large_trans</th>\n",
       "      <th>avg_trans_amt</th>\n",
       "      <th>median_balance</th>\n",
       "      <th>state</th>\n",
       "      <th>age</th>\n",
       "      <th>gender</th>\n",
       "      <th>annual_salary</th>\n",
       "    </tr>\n",
       "  </thead>\n",
       "  <tbody>\n",
       "    <tr>\n",
       "      <th>0</th>\n",
       "      <td>CUS-2487424745</td>\n",
       "      <td>49</td>\n",
       "      <td>1452.21</td>\n",
       "      <td>22</td>\n",
       "      <td>45.348772</td>\n",
       "      <td>1580.40</td>\n",
       "      <td>QLD</td>\n",
       "      <td>26</td>\n",
       "      <td>F</td>\n",
       "      <td>52855.650000</td>\n",
       "    </tr>\n",
       "    <tr>\n",
       "      <th>1</th>\n",
       "      <td>CUS-2142601169</td>\n",
       "      <td>28</td>\n",
       "      <td>2349.55</td>\n",
       "      <td>23</td>\n",
       "      <td>78.206106</td>\n",
       "      <td>1132.66</td>\n",
       "      <td>NSW</td>\n",
       "      <td>38</td>\n",
       "      <td>M</td>\n",
       "      <td>52253.921429</td>\n",
       "    </tr>\n",
       "    <tr>\n",
       "      <th>2</th>\n",
       "      <td>CUS-1614226872</td>\n",
       "      <td>21</td>\n",
       "      <td>892.09</td>\n",
       "      <td>22</td>\n",
       "      <td>74.465019</td>\n",
       "      <td>3618.50</td>\n",
       "      <td>QLD</td>\n",
       "      <td>40</td>\n",
       "      <td>F</td>\n",
       "      <td>46516.121429</td>\n",
       "    </tr>\n",
       "    <tr>\n",
       "      <th>3</th>\n",
       "      <td>CUS-2688605418</td>\n",
       "      <td>14</td>\n",
       "      <td>2320.30</td>\n",
       "      <td>25</td>\n",
       "      <td>159.304186</td>\n",
       "      <td>5616.63</td>\n",
       "      <td>NSW</td>\n",
       "      <td>20</td>\n",
       "      <td>M</td>\n",
       "      <td>60493.535714</td>\n",
       "    </tr>\n",
       "    <tr>\n",
       "      <th>4</th>\n",
       "      <td>CUS-4123612273</td>\n",
       "      <td>21</td>\n",
       "      <td>1068.04</td>\n",
       "      <td>32</td>\n",
       "      <td>166.508358</td>\n",
       "      <td>6162.45</td>\n",
       "      <td>VIC</td>\n",
       "      <td>43</td>\n",
       "      <td>F</td>\n",
       "      <td>55690.657143</td>\n",
       "    </tr>\n",
       "  </tbody>\n",
       "</table>\n",
       "</div>"
      ],
      "text/plain": [
       "      customer_id  avg_no_week_trans  max_amt  no_large_trans  avg_trans_amt  \\\n",
       "0  CUS-2487424745                 49  1452.21              22      45.348772   \n",
       "1  CUS-2142601169                 28  2349.55              23      78.206106   \n",
       "2  CUS-1614226872                 21   892.09              22      74.465019   \n",
       "3  CUS-2688605418                 14  2320.30              25     159.304186   \n",
       "4  CUS-4123612273                 21  1068.04              32     166.508358   \n",
       "\n",
       "   median_balance state  age gender  annual_salary  \n",
       "0         1580.40   QLD   26      F   52855.650000  \n",
       "1         1132.66   NSW   38      M   52253.921429  \n",
       "2         3618.50   QLD   40      F   46516.121429  \n",
       "3         5616.63   NSW   20      M   60493.535714  \n",
       "4         6162.45   VIC   43      F   55690.657143  "
      ]
     },
     "execution_count": 26,
     "metadata": {},
     "output_type": "execute_result"
    }
   ],
   "source": [
    "# concat annual salary column to features dataframe  \n",
    "new_df = pd.concat([pred_df, salary_df.annual_salary], axis = 1)\n",
    "new_df.head()"
   ]
  },
  {
   "cell_type": "code",
   "execution_count": 27,
   "id": "4896b264",
   "metadata": {},
   "outputs": [
    {
     "data": {
      "text/plain": [
       "customer_id          0\n",
       "avg_no_week_trans    0\n",
       "max_amt              0\n",
       "no_large_trans       0\n",
       "avg_trans_amt        0\n",
       "median_balance       0\n",
       "state                0\n",
       "age                  0\n",
       "gender               0\n",
       "annual_salary        0\n",
       "dtype: int64"
      ]
     },
     "execution_count": 27,
     "metadata": {},
     "output_type": "execute_result"
    }
   ],
   "source": [
    "# checking for missing values\n",
    "\n",
    "new_df.isna().sum()"
   ]
  },
  {
   "cell_type": "code",
   "execution_count": 28,
   "id": "8e173f9a",
   "metadata": {},
   "outputs": [],
   "source": [
    "# Preprocessing"
   ]
  },
  {
   "cell_type": "code",
   "execution_count": 29,
   "id": "95399e35",
   "metadata": {},
   "outputs": [
    {
     "name": "stdout",
     "output_type": "stream",
     "text": [
      "x shape:  (100, 8)\n",
      "y shape:  (100,)\n"
     ]
    }
   ],
   "source": [
    "x = new_df.drop(['customer_id', 'annual_salary'], axis=1)\n",
    "y = new_df.annual_salary\n",
    "\n",
    "print('x shape: ', x.shape)\n",
    "print('y shape: ', y.shape)"
   ]
  },
  {
   "cell_type": "code",
   "execution_count": 30,
   "id": "b599854a",
   "metadata": {},
   "outputs": [
    {
     "name": "stdout",
     "output_type": "stream",
     "text": [
      "x_tr shape:  (70, 8)\n",
      "y_tr shape:  (70,)\n",
      "x_test shape:  (30, 8)\n",
      "y_test shape:  (30,)\n"
     ]
    }
   ],
   "source": [
    "x_tr, x_test, y_tr, y_test = train_test_split(x,y, test_size=0.3, random_state=25)\n",
    "\n",
    "print('x_tr shape: ', x_tr.shape)\n",
    "print('y_tr shape: ', y_tr.shape)\n",
    "print('x_test shape: ', x_test.shape)\n",
    "print('y_test shape: ', y_test.shape)"
   ]
  },
  {
   "cell_type": "code",
   "execution_count": 31,
   "id": "6288696c",
   "metadata": {},
   "outputs": [],
   "source": [
    "# Crete column transformer \n",
    "ohe = OneHotEncoder(sparse = False)\n",
    "scaler = StandardScaler()\n",
    "column_transform = make_column_transformer((ohe, [\"state\", \"gender\"]), \n",
    "                                           (scaler, [\"avg_no_week_trans\", \"max_amt\", \"no_large_trans\", \"avg_trans_amt\", \"median_balance\", \"age\"]))"
   ]
  },
  {
   "cell_type": "code",
   "execution_count": 32,
   "id": "7e18f4dd",
   "metadata": {},
   "outputs": [],
   "source": [
    "# Linear Regression Model"
   ]
  },
  {
   "cell_type": "code",
   "execution_count": 33,
   "id": "67f6d893",
   "metadata": {},
   "outputs": [],
   "source": [
    "# Instantiate model and pipeline\n",
    "lm = LinearRegression()\n",
    "lm_pipeline = make_pipeline(column_transform, lm)\n",
    "\n",
    "# Fit pipeline and make predictions \n",
    "lm_pipeline.fit(x_tr, y_tr)\n",
    "lm_pred = lm_pipeline.predict(x_test)"
   ]
  },
  {
   "cell_type": "code",
   "execution_count": 34,
   "id": "aed68ab7",
   "metadata": {},
   "outputs": [
    {
     "data": {
      "text/plain": [
       "23441.285141902372"
      ]
     },
     "execution_count": 34,
     "metadata": {},
     "output_type": "execute_result"
    }
   ],
   "source": [
    "np.sqrt(mean_squared_error(lm_pred, y_test))"
   ]
  },
  {
   "cell_type": "code",
   "execution_count": 35,
   "id": "8651b867",
   "metadata": {},
   "outputs": [
    {
     "data": {
      "text/plain": [
       "0.3288787277327756"
      ]
     },
     "execution_count": 35,
     "metadata": {},
     "output_type": "execute_result"
    }
   ],
   "source": [
    "r2_score(y_test, lm_pred)"
   ]
  },
  {
   "cell_type": "code",
   "execution_count": 36,
   "id": "419110fa",
   "metadata": {},
   "outputs": [],
   "source": [
    "# Decision Tree Model"
   ]
  },
  {
   "cell_type": "code",
   "execution_count": 37,
   "id": "af71cea7",
   "metadata": {},
   "outputs": [],
   "source": [
    "# Instantiate model and pipeline \n",
    "dtree = DecisionTreeRegressor()\n",
    "dtree_pipeline = make_pipeline(column_transform, dtree)\n",
    "\n",
    "# Fit pipeline and make predictions \n",
    "dtree_pipeline.fit(x_tr, y_tr)\n",
    "dtree_pred = dtree_pipeline.predict(x_test)"
   ]
  },
  {
   "cell_type": "code",
   "execution_count": 38,
   "id": "d0f13853",
   "metadata": {},
   "outputs": [
    {
     "data": {
      "text/plain": [
       "25201.237718421064"
      ]
     },
     "execution_count": 38,
     "metadata": {},
     "output_type": "execute_result"
    }
   ],
   "source": [
    "np.sqrt(mean_squared_error(dtree_pred, y_test))"
   ]
  },
  {
   "cell_type": "code",
   "execution_count": 39,
   "id": "f9253f1b",
   "metadata": {},
   "outputs": [
    {
     "data": {
      "text/plain": [
       "0.2243212190901378"
      ]
     },
     "execution_count": 39,
     "metadata": {},
     "output_type": "execute_result"
    }
   ],
   "source": [
    "r2_score(y_test, dtree_pred)"
   ]
  },
  {
   "cell_type": "code",
   "execution_count": 40,
   "id": "e90e8029",
   "metadata": {},
   "outputs": [],
   "source": [
    "# conclusion\n",
    "\n",
    "# Both Linear Regression and Decision Trees have the RMSE value more than 20000 and have a very small r2 score.\n",
    "# Hence we can say that both the models are providing highly inaccurate results. More data is required to develop a better model"
   ]
  }
 ],
 "metadata": {
  "kernelspec": {
   "display_name": "Python 3 (ipykernel)",
   "language": "python",
   "name": "python3"
  },
  "language_info": {
   "codemirror_mode": {
    "name": "ipython",
    "version": 3
   },
   "file_extension": ".py",
   "mimetype": "text/x-python",
   "name": "python",
   "nbconvert_exporter": "python",
   "pygments_lexer": "ipython3",
   "version": "3.9.12"
  }
 },
 "nbformat": 4,
 "nbformat_minor": 5
}
